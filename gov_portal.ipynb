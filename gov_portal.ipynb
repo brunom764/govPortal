{
  "nbformat": 4,
  "nbformat_minor": 0,
  "metadata": {
    "colab": {
      "provenance": []
    },
    "kernelspec": {
      "name": "python3",
      "display_name": "Python 3"
    },
    "language_info": {
      "name": "python"
    }
  },
  "cells": [
    {
      "cell_type": "markdown",
      "source": [
        "\n",
        "## Criação do DataFrame a partir do arquivo csv"
      ],
      "metadata": {
        "id": "W9_by88aM0Ag"
      }
    },
    {
      "cell_type": "code",
      "source": [
        "import pandas as pd\n",
        "\n",
        "df = pd.read_csv(\"FINBRA_Estados-DF_Despesas por Função_2018-2021 - Finbra_2018-2021.csv\")\n",
        "df.columns = ['Ano','Instituição','Cod.IBGE','UF','População','tipo','Conta','Identificador da Conta','Valor(R$)']\n",
        "df = df.iloc[4:]\n",
        "df"
      ],
      "metadata": {
        "id": "IDH7VNhBKoC1",
        "colab": {
          "base_uri": "https://localhost:8080/",
          "height": 424
        },
        "outputId": "42f5ccfc-b1eb-4f25-83ef-ccdc3db0bbda"
      },
      "execution_count": null,
      "outputs": [
        {
          "output_type": "execute_result",
          "data": {
            "text/plain": [
              "        Ano                       Instituição Cod.IBGE  UF População  \\\n",
              "4      2018  Governo do Estado do Mato Grosso       51  MT   3305531   \n",
              "5      2018  Governo do Estado do Mato Grosso       51  MT   3305531   \n",
              "6      2018  Governo do Estado do Mato Grosso       51  MT   3305531   \n",
              "7      2018  Governo do Estado do Mato Grosso       51  MT   3305531   \n",
              "8      2018  Governo do Estado do Mato Grosso       51  MT   3305531   \n",
              "...     ...                               ...      ...  ..       ...   \n",
              "59283  2021      Governo do Estado de Roraima       14  RR    631181   \n",
              "59284  2021      Governo do Estado de Roraima       14  RR    631181   \n",
              "59285  2021      Governo do Estado de Roraima       14  RR    631181   \n",
              "59286  2021      Governo do Estado de Roraima       14  RR    631181   \n",
              "59287  2021      Governo do Estado de Roraima       14  RR    631181   \n",
              "\n",
              "                                          tipo  \\\n",
              "4                          Despesas Empenhadas   \n",
              "5                          Despesas Empenhadas   \n",
              "6                          Despesas Empenhadas   \n",
              "7                          Despesas Empenhadas   \n",
              "8                          Despesas Empenhadas   \n",
              "...                                        ...   \n",
              "59283  Inscrição de Restos a Pagar Processados   \n",
              "59284  Inscrição de Restos a Pagar Processados   \n",
              "59285  Inscrição de Restos a Pagar Processados   \n",
              "59286  Inscrição de Restos a Pagar Processados   \n",
              "59287  Inscrição de Restos a Pagar Processados   \n",
              "\n",
              "                                    Conta     Identificador da Conta  \\\n",
              "4      Despesas Exceto Intraorçamentárias  siconfi-cor_TotalDespesas   \n",
              "5                        01 - Legislativa  siconfi-cor_TotalDespesas   \n",
              "6               01.031 - Ação Legislativa  siconfi-cor_TotalDespesas   \n",
              "7               01.032 - Controle Externo  siconfi-cor_TotalDespesas   \n",
              "8            01.122 - Administração Geral  siconfi-cor_TotalDespesas   \n",
              "...                                   ...                        ...   \n",
              "59283      26.782 - Transporte Rodoviário  siconfi-cor_TotalDespesas   \n",
              "59284               27 - Desporto e Lazer  siconfi-cor_TotalDespesas   \n",
              "59285     27.811 - Desporto de Rendimento  siconfi-cor_TotalDespesas   \n",
              "59286       27.812 - Desporto Comunitário  siconfi-cor_TotalDespesas   \n",
              "59287         Despesas Intraorçamentárias  siconfi-cor_TotalDespesas   \n",
              "\n",
              "                  Valor(R$)  \n",
              "4        17.199.441.858,54   \n",
              "5           739.689.951,28   \n",
              "6            42.211.494,05   \n",
              "7            39.399.777,41   \n",
              "8           559.248.199,65   \n",
              "...                     ...  \n",
              "59283              129834,1  \n",
              "59284             195426,26  \n",
              "59285                 66825  \n",
              "59286             128601,26  \n",
              "59287            5821304,29  \n",
              "\n",
              "[59284 rows x 9 columns]"
            ],
            "text/html": [
              "\n",
              "  <div id=\"df-433bd072-64ed-4efa-a732-9cc7cd92210c\" class=\"colab-df-container\">\n",
              "    <div>\n",
              "<style scoped>\n",
              "    .dataframe tbody tr th:only-of-type {\n",
              "        vertical-align: middle;\n",
              "    }\n",
              "\n",
              "    .dataframe tbody tr th {\n",
              "        vertical-align: top;\n",
              "    }\n",
              "\n",
              "    .dataframe thead th {\n",
              "        text-align: right;\n",
              "    }\n",
              "</style>\n",
              "<table border=\"1\" class=\"dataframe\">\n",
              "  <thead>\n",
              "    <tr style=\"text-align: right;\">\n",
              "      <th></th>\n",
              "      <th>Ano</th>\n",
              "      <th>Instituição</th>\n",
              "      <th>Cod.IBGE</th>\n",
              "      <th>UF</th>\n",
              "      <th>População</th>\n",
              "      <th>tipo</th>\n",
              "      <th>Conta</th>\n",
              "      <th>Identificador da Conta</th>\n",
              "      <th>Valor(R$)</th>\n",
              "    </tr>\n",
              "  </thead>\n",
              "  <tbody>\n",
              "    <tr>\n",
              "      <th>4</th>\n",
              "      <td>2018</td>\n",
              "      <td>Governo do Estado do Mato Grosso</td>\n",
              "      <td>51</td>\n",
              "      <td>MT</td>\n",
              "      <td>3305531</td>\n",
              "      <td>Despesas Empenhadas</td>\n",
              "      <td>Despesas Exceto Intraorçamentárias</td>\n",
              "      <td>siconfi-cor_TotalDespesas</td>\n",
              "      <td>17.199.441.858,54</td>\n",
              "    </tr>\n",
              "    <tr>\n",
              "      <th>5</th>\n",
              "      <td>2018</td>\n",
              "      <td>Governo do Estado do Mato Grosso</td>\n",
              "      <td>51</td>\n",
              "      <td>MT</td>\n",
              "      <td>3305531</td>\n",
              "      <td>Despesas Empenhadas</td>\n",
              "      <td>01 - Legislativa</td>\n",
              "      <td>siconfi-cor_TotalDespesas</td>\n",
              "      <td>739.689.951,28</td>\n",
              "    </tr>\n",
              "    <tr>\n",
              "      <th>6</th>\n",
              "      <td>2018</td>\n",
              "      <td>Governo do Estado do Mato Grosso</td>\n",
              "      <td>51</td>\n",
              "      <td>MT</td>\n",
              "      <td>3305531</td>\n",
              "      <td>Despesas Empenhadas</td>\n",
              "      <td>01.031 - Ação Legislativa</td>\n",
              "      <td>siconfi-cor_TotalDespesas</td>\n",
              "      <td>42.211.494,05</td>\n",
              "    </tr>\n",
              "    <tr>\n",
              "      <th>7</th>\n",
              "      <td>2018</td>\n",
              "      <td>Governo do Estado do Mato Grosso</td>\n",
              "      <td>51</td>\n",
              "      <td>MT</td>\n",
              "      <td>3305531</td>\n",
              "      <td>Despesas Empenhadas</td>\n",
              "      <td>01.032 - Controle Externo</td>\n",
              "      <td>siconfi-cor_TotalDespesas</td>\n",
              "      <td>39.399.777,41</td>\n",
              "    </tr>\n",
              "    <tr>\n",
              "      <th>8</th>\n",
              "      <td>2018</td>\n",
              "      <td>Governo do Estado do Mato Grosso</td>\n",
              "      <td>51</td>\n",
              "      <td>MT</td>\n",
              "      <td>3305531</td>\n",
              "      <td>Despesas Empenhadas</td>\n",
              "      <td>01.122 - Administração Geral</td>\n",
              "      <td>siconfi-cor_TotalDespesas</td>\n",
              "      <td>559.248.199,65</td>\n",
              "    </tr>\n",
              "    <tr>\n",
              "      <th>...</th>\n",
              "      <td>...</td>\n",
              "      <td>...</td>\n",
              "      <td>...</td>\n",
              "      <td>...</td>\n",
              "      <td>...</td>\n",
              "      <td>...</td>\n",
              "      <td>...</td>\n",
              "      <td>...</td>\n",
              "      <td>...</td>\n",
              "    </tr>\n",
              "    <tr>\n",
              "      <th>59283</th>\n",
              "      <td>2021</td>\n",
              "      <td>Governo do Estado de Roraima</td>\n",
              "      <td>14</td>\n",
              "      <td>RR</td>\n",
              "      <td>631181</td>\n",
              "      <td>Inscrição de Restos a Pagar Processados</td>\n",
              "      <td>26.782 - Transporte Rodoviário</td>\n",
              "      <td>siconfi-cor_TotalDespesas</td>\n",
              "      <td>129834,1</td>\n",
              "    </tr>\n",
              "    <tr>\n",
              "      <th>59284</th>\n",
              "      <td>2021</td>\n",
              "      <td>Governo do Estado de Roraima</td>\n",
              "      <td>14</td>\n",
              "      <td>RR</td>\n",
              "      <td>631181</td>\n",
              "      <td>Inscrição de Restos a Pagar Processados</td>\n",
              "      <td>27 - Desporto e Lazer</td>\n",
              "      <td>siconfi-cor_TotalDespesas</td>\n",
              "      <td>195426,26</td>\n",
              "    </tr>\n",
              "    <tr>\n",
              "      <th>59285</th>\n",
              "      <td>2021</td>\n",
              "      <td>Governo do Estado de Roraima</td>\n",
              "      <td>14</td>\n",
              "      <td>RR</td>\n",
              "      <td>631181</td>\n",
              "      <td>Inscrição de Restos a Pagar Processados</td>\n",
              "      <td>27.811 - Desporto de Rendimento</td>\n",
              "      <td>siconfi-cor_TotalDespesas</td>\n",
              "      <td>66825</td>\n",
              "    </tr>\n",
              "    <tr>\n",
              "      <th>59286</th>\n",
              "      <td>2021</td>\n",
              "      <td>Governo do Estado de Roraima</td>\n",
              "      <td>14</td>\n",
              "      <td>RR</td>\n",
              "      <td>631181</td>\n",
              "      <td>Inscrição de Restos a Pagar Processados</td>\n",
              "      <td>27.812 - Desporto Comunitário</td>\n",
              "      <td>siconfi-cor_TotalDespesas</td>\n",
              "      <td>128601,26</td>\n",
              "    </tr>\n",
              "    <tr>\n",
              "      <th>59287</th>\n",
              "      <td>2021</td>\n",
              "      <td>Governo do Estado de Roraima</td>\n",
              "      <td>14</td>\n",
              "      <td>RR</td>\n",
              "      <td>631181</td>\n",
              "      <td>Inscrição de Restos a Pagar Processados</td>\n",
              "      <td>Despesas Intraorçamentárias</td>\n",
              "      <td>siconfi-cor_TotalDespesas</td>\n",
              "      <td>5821304,29</td>\n",
              "    </tr>\n",
              "  </tbody>\n",
              "</table>\n",
              "<p>59284 rows × 9 columns</p>\n",
              "</div>\n",
              "    <div class=\"colab-df-buttons\">\n",
              "\n",
              "  <div class=\"colab-df-container\">\n",
              "    <button class=\"colab-df-convert\" onclick=\"convertToInteractive('df-433bd072-64ed-4efa-a732-9cc7cd92210c')\"\n",
              "            title=\"Convert this dataframe to an interactive table.\"\n",
              "            style=\"display:none;\">\n",
              "\n",
              "  <svg xmlns=\"http://www.w3.org/2000/svg\" height=\"24px\" viewBox=\"0 -960 960 960\">\n",
              "    <path d=\"M120-120v-720h720v720H120Zm60-500h600v-160H180v160Zm220 220h160v-160H400v160Zm0 220h160v-160H400v160ZM180-400h160v-160H180v160Zm440 0h160v-160H620v160ZM180-180h160v-160H180v160Zm440 0h160v-160H620v160Z\"/>\n",
              "  </svg>\n",
              "    </button>\n",
              "\n",
              "  <style>\n",
              "    .colab-df-container {\n",
              "      display:flex;\n",
              "      gap: 12px;\n",
              "    }\n",
              "\n",
              "    .colab-df-convert {\n",
              "      background-color: #E8F0FE;\n",
              "      border: none;\n",
              "      border-radius: 50%;\n",
              "      cursor: pointer;\n",
              "      display: none;\n",
              "      fill: #1967D2;\n",
              "      height: 32px;\n",
              "      padding: 0 0 0 0;\n",
              "      width: 32px;\n",
              "    }\n",
              "\n",
              "    .colab-df-convert:hover {\n",
              "      background-color: #E2EBFA;\n",
              "      box-shadow: 0px 1px 2px rgba(60, 64, 67, 0.3), 0px 1px 3px 1px rgba(60, 64, 67, 0.15);\n",
              "      fill: #174EA6;\n",
              "    }\n",
              "\n",
              "    .colab-df-buttons div {\n",
              "      margin-bottom: 4px;\n",
              "    }\n",
              "\n",
              "    [theme=dark] .colab-df-convert {\n",
              "      background-color: #3B4455;\n",
              "      fill: #D2E3FC;\n",
              "    }\n",
              "\n",
              "    [theme=dark] .colab-df-convert:hover {\n",
              "      background-color: #434B5C;\n",
              "      box-shadow: 0px 1px 3px 1px rgba(0, 0, 0, 0.15);\n",
              "      filter: drop-shadow(0px 1px 2px rgba(0, 0, 0, 0.3));\n",
              "      fill: #FFFFFF;\n",
              "    }\n",
              "  </style>\n",
              "\n",
              "    <script>\n",
              "      const buttonEl =\n",
              "        document.querySelector('#df-433bd072-64ed-4efa-a732-9cc7cd92210c button.colab-df-convert');\n",
              "      buttonEl.style.display =\n",
              "        google.colab.kernel.accessAllowed ? 'block' : 'none';\n",
              "\n",
              "      async function convertToInteractive(key) {\n",
              "        const element = document.querySelector('#df-433bd072-64ed-4efa-a732-9cc7cd92210c');\n",
              "        const dataTable =\n",
              "          await google.colab.kernel.invokeFunction('convertToInteractive',\n",
              "                                                    [key], {});\n",
              "        if (!dataTable) return;\n",
              "\n",
              "        const docLinkHtml = 'Like what you see? Visit the ' +\n",
              "          '<a target=\"_blank\" href=https://colab.research.google.com/notebooks/data_table.ipynb>data table notebook</a>'\n",
              "          + ' to learn more about interactive tables.';\n",
              "        element.innerHTML = '';\n",
              "        dataTable['output_type'] = 'display_data';\n",
              "        await google.colab.output.renderOutput(dataTable, element);\n",
              "        const docLink = document.createElement('div');\n",
              "        docLink.innerHTML = docLinkHtml;\n",
              "        element.appendChild(docLink);\n",
              "      }\n",
              "    </script>\n",
              "  </div>\n",
              "\n",
              "\n",
              "<div id=\"df-f6bd38ad-bb9c-4f0f-b6e6-3f4846d9c632\">\n",
              "  <button class=\"colab-df-quickchart\" onclick=\"quickchart('df-f6bd38ad-bb9c-4f0f-b6e6-3f4846d9c632')\"\n",
              "            title=\"Suggest charts.\"\n",
              "            style=\"display:none;\">\n",
              "\n",
              "<svg xmlns=\"http://www.w3.org/2000/svg\" height=\"24px\"viewBox=\"0 0 24 24\"\n",
              "     width=\"24px\">\n",
              "    <g>\n",
              "        <path d=\"M19 3H5c-1.1 0-2 .9-2 2v14c0 1.1.9 2 2 2h14c1.1 0 2-.9 2-2V5c0-1.1-.9-2-2-2zM9 17H7v-7h2v7zm4 0h-2V7h2v10zm4 0h-2v-4h2v4z\"/>\n",
              "    </g>\n",
              "</svg>\n",
              "  </button>\n",
              "\n",
              "<style>\n",
              "  .colab-df-quickchart {\n",
              "      --bg-color: #E8F0FE;\n",
              "      --fill-color: #1967D2;\n",
              "      --hover-bg-color: #E2EBFA;\n",
              "      --hover-fill-color: #174EA6;\n",
              "      --disabled-fill-color: #AAA;\n",
              "      --disabled-bg-color: #DDD;\n",
              "  }\n",
              "\n",
              "  [theme=dark] .colab-df-quickchart {\n",
              "      --bg-color: #3B4455;\n",
              "      --fill-color: #D2E3FC;\n",
              "      --hover-bg-color: #434B5C;\n",
              "      --hover-fill-color: #FFFFFF;\n",
              "      --disabled-bg-color: #3B4455;\n",
              "      --disabled-fill-color: #666;\n",
              "  }\n",
              "\n",
              "  .colab-df-quickchart {\n",
              "    background-color: var(--bg-color);\n",
              "    border: none;\n",
              "    border-radius: 50%;\n",
              "    cursor: pointer;\n",
              "    display: none;\n",
              "    fill: var(--fill-color);\n",
              "    height: 32px;\n",
              "    padding: 0;\n",
              "    width: 32px;\n",
              "  }\n",
              "\n",
              "  .colab-df-quickchart:hover {\n",
              "    background-color: var(--hover-bg-color);\n",
              "    box-shadow: 0 1px 2px rgba(60, 64, 67, 0.3), 0 1px 3px 1px rgba(60, 64, 67, 0.15);\n",
              "    fill: var(--button-hover-fill-color);\n",
              "  }\n",
              "\n",
              "  .colab-df-quickchart-complete:disabled,\n",
              "  .colab-df-quickchart-complete:disabled:hover {\n",
              "    background-color: var(--disabled-bg-color);\n",
              "    fill: var(--disabled-fill-color);\n",
              "    box-shadow: none;\n",
              "  }\n",
              "\n",
              "  .colab-df-spinner {\n",
              "    border: 2px solid var(--fill-color);\n",
              "    border-color: transparent;\n",
              "    border-bottom-color: var(--fill-color);\n",
              "    animation:\n",
              "      spin 1s steps(1) infinite;\n",
              "  }\n",
              "\n",
              "  @keyframes spin {\n",
              "    0% {\n",
              "      border-color: transparent;\n",
              "      border-bottom-color: var(--fill-color);\n",
              "      border-left-color: var(--fill-color);\n",
              "    }\n",
              "    20% {\n",
              "      border-color: transparent;\n",
              "      border-left-color: var(--fill-color);\n",
              "      border-top-color: var(--fill-color);\n",
              "    }\n",
              "    30% {\n",
              "      border-color: transparent;\n",
              "      border-left-color: var(--fill-color);\n",
              "      border-top-color: var(--fill-color);\n",
              "      border-right-color: var(--fill-color);\n",
              "    }\n",
              "    40% {\n",
              "      border-color: transparent;\n",
              "      border-right-color: var(--fill-color);\n",
              "      border-top-color: var(--fill-color);\n",
              "    }\n",
              "    60% {\n",
              "      border-color: transparent;\n",
              "      border-right-color: var(--fill-color);\n",
              "    }\n",
              "    80% {\n",
              "      border-color: transparent;\n",
              "      border-right-color: var(--fill-color);\n",
              "      border-bottom-color: var(--fill-color);\n",
              "    }\n",
              "    90% {\n",
              "      border-color: transparent;\n",
              "      border-bottom-color: var(--fill-color);\n",
              "    }\n",
              "  }\n",
              "</style>\n",
              "\n",
              "  <script>\n",
              "    async function quickchart(key) {\n",
              "      const quickchartButtonEl =\n",
              "        document.querySelector('#' + key + ' button');\n",
              "      quickchartButtonEl.disabled = true;  // To prevent multiple clicks.\n",
              "      quickchartButtonEl.classList.add('colab-df-spinner');\n",
              "      try {\n",
              "        const charts = await google.colab.kernel.invokeFunction(\n",
              "            'suggestCharts', [key], {});\n",
              "      } catch (error) {\n",
              "        console.error('Error during call to suggestCharts:', error);\n",
              "      }\n",
              "      quickchartButtonEl.classList.remove('colab-df-spinner');\n",
              "      quickchartButtonEl.classList.add('colab-df-quickchart-complete');\n",
              "    }\n",
              "    (() => {\n",
              "      let quickchartButtonEl =\n",
              "        document.querySelector('#df-f6bd38ad-bb9c-4f0f-b6e6-3f4846d9c632 button');\n",
              "      quickchartButtonEl.style.display =\n",
              "        google.colab.kernel.accessAllowed ? 'block' : 'none';\n",
              "    })();\n",
              "  </script>\n",
              "</div>\n",
              "    </div>\n",
              "  </div>\n"
            ]
          },
          "metadata": {},
          "execution_count": 4
        }
      ]
    },
    {
      "cell_type": "code",
      "source": [
        "df.Instituição = df.Instituição.str.upper()\n",
        "governo = input(\"digite um governo: \")\n",
        "ano = input(\"digite o ano: \")\n",
        "total = df.query(f\"Instituição=='{governo.upper()}' and Ano=='{ano}' and tipo in ['Despesas Empenhadas', 'Despesas Liquidadas', 'Despesas Pagas']\")"
      ],
      "metadata": {
        "colab": {
          "base_uri": "https://localhost:8080/"
        },
        "id": "XptdJZS5M4ki",
        "outputId": "514518ba-b431-49e5-b917-3451035e5376"
      },
      "execution_count": null,
      "outputs": [
        {
          "name": "stdout",
          "output_type": "stream",
          "text": [
            "digite um governo: governo do estado de pernambuco\n",
            "digite o ano: 2021\n"
          ]
        }
      ]
    },
    {
      "cell_type": "markdown",
      "source": [
        "\n",
        "\n",
        "---\n",
        "# **Assistência social**\n",
        "\n",
        "---\n",
        "\n"
      ],
      "metadata": {
        "id": "Hr8vjJF_uYoD"
      }
    },
    {
      "cell_type": "markdown",
      "source": [
        "# Total Despesas Empenhadas"
      ],
      "metadata": {
        "id": "HXsVTakCuM09"
      }
    },
    {
      "cell_type": "code",
      "source": [
        "despesas_empenhadas = total.query(f\"tipo=='Despesas Empenhadas' and Conta=='08 - Assistência Social'\")\n",
        "print(despesas_empenhadas)\n",
        "despesas_empenhadas = despesas_empenhadas['Valor(R$)'].iloc[0]\n",
        "print(f'Saldo total Despesas Empenhadas em {ano}: R${despesas_empenhadas.split()[0]}')\n",
        "despesas_empenhadassoc = despesas_empenhadas.split()[0]"
      ],
      "metadata": {
        "id": "ckF2-vf46r0z",
        "colab": {
          "base_uri": "https://localhost:8080/"
        },
        "outputId": "431320dc-b763-45fe-8641-67889e6f5769"
      },
      "execution_count": null,
      "outputs": [
        {
          "output_type": "stream",
          "name": "stdout",
          "text": [
            "        Ano                      Instituição Cod.IBGE  UF População  \\\n",
            "48823  2021  GOVERNO DO ESTADO DE PERNAMBUCO       26  PE   9616621   \n",
            "\n",
            "                      tipo                    Conta  \\\n",
            "48823  Despesas Empenhadas  08 - Assistência Social   \n",
            "\n",
            "          Identificador da Conta  Valor(R$)  \n",
            "48823  siconfi-cor_TotalDespesas  209836821  \n",
            "Saldo total Despesas Empenhadas em 2021: R$209836821\n"
          ]
        }
      ]
    },
    {
      "cell_type": "markdown",
      "source": [
        "# Total Despesas Pagas"
      ],
      "metadata": {
        "id": "t6_Fd3IIuSzY"
      }
    },
    {
      "cell_type": "code",
      "source": [
        "despesas_pagas = total.query(f\"tipo=='Despesas Pagas' and Conta=='08 - Assistência Social'\")\n",
        "despesas_pagas = despesas_pagas['Valor(R$)'].iloc[0]\n",
        "print(f'Saldo total Despesas Pagas em {ano}: R${despesas_pagas.split()[0]}')\n",
        "despesas_pagassoc = despesas_pagas.split()[0]"
      ],
      "metadata": {
        "id": "hXOF1OFPAXw4",
        "colab": {
          "base_uri": "https://localhost:8080/"
        },
        "outputId": "72536345-ab68-46ae-ddaf-24ef46a911d6"
      },
      "execution_count": null,
      "outputs": [
        {
          "output_type": "stream",
          "name": "stdout",
          "text": [
            "Saldo total Despesas Pagas em 2021: R$208540356,7\n"
          ]
        }
      ]
    },
    {
      "cell_type": "markdown",
      "source": [
        "# Gráfico Despesas Pagas x Despesas Empenhadas"
      ],
      "metadata": {
        "id": "Xufpqdh6-whW"
      }
    },
    {
      "cell_type": "code",
      "source": [
        "# tratamento valor despesas pagas\n",
        "valor_pagas = despesas_pagas.split()[0].replace('.','')\n",
        "valor_pagas = valor_pagas.replace(',','.')\n",
        "\n",
        "if float(valor_pagas) % 1 != 0:\n",
        "  numero = int(valor_pagas[:valor_pagas.index('.')])\n",
        "  centavos = int(valor_pagas[valor_pagas.index('.') +1:])\n",
        "else:\n",
        "  numero = int(valor_pagas)\n",
        "  centavos = 0\n",
        "valor_pagas = numero + (centavos/100)\n",
        "\n",
        "# tratamento valor despesas empenhadas\n",
        "valor_empenhadas = despesas_empenhadas.split()[0].replace('.','')\n",
        "valor_empenhadas = valor_empenhadas.replace(',','.')\n",
        "print(valor_empenhadas)\n",
        "if float(valor_empenhadas) % 1 != 0:\n",
        "  numero = int(valor_empenhadas[:valor_empenhadas.index('.')])\n",
        "  centavos = int(valor_empenhadas[valor_empenhadas.index('.') +1:])\n",
        "else:\n",
        "  valor_pagas = int(valor_empenhadas)\n",
        "  centavos = 0\n",
        "valor_empenhadas = numero + (centavos/100)\n",
        "\n",
        "# pie plot\n",
        "import matplotlib.pyplot as plt\n",
        "valores = [valor_pagas, valor_empenhadas]\n",
        "plt.pie(valores, labels=['Despesas Empenhadas', 'Despesas Pagas'], autopct='%1.2f%%')\n",
        "plt.title(f'Distribuição despesas Assistência Social do {governo.upper()} no ano de {ano} (Assistência Social)')\n",
        "plt.show()\n",
        "\n"
      ],
      "metadata": {
        "id": "15kxS1yW8UL1",
        "colab": {
          "base_uri": "https://localhost:8080/",
          "height": 446
        },
        "outputId": "c5241150-f684-4f59-8a3b-b3ef15e314cc"
      },
      "execution_count": null,
      "outputs": [
        {
          "output_type": "stream",
          "name": "stdout",
          "text": [
            "7492995052.93\n"
          ]
        },
        {
          "output_type": "display_data",
          "data": {
            "text/plain": [
              "<Figure size 640x480 with 1 Axes>"
            ],
            "image/png": "[encoded data removed]"
          },
          "metadata": {}
        }
      ]
    },
    {
      "cell_type": "markdown",
      "source": [
        "\n",
        "\n",
        "---\n",
        "\n",
        "\n",
        "# **Previdência Social**\n",
        "\n",
        "\n",
        "---\n",
        "\n"
      ],
      "metadata": {
        "id": "EnhduA87uztx"
      }
    },
    {
      "cell_type": "markdown",
      "source": [
        "# Total Despesas Empenhadas"
      ],
      "metadata": {
        "id": "7vaoXVhswF-E"
      }
    },
    {
      "cell_type": "code",
      "source": [
        "despesas_empenhadas = total.query(f\"tipo=='Despesas Empenhadas' and Conta=='09 - Previdência Social'\")\n",
        "despesas_empenhadas = despesas_empenhadas['Valor(R$)'].iloc[0]\n",
        "print(f'Saldo total Despesas Empenhadas em {ano}: R${despesas_empenhadas.split()[0]}')\n",
        "despesas_empenhadasprev = despesas_empenhadas.split()[0]"
      ],
      "metadata": {
        "id": "YfkaoFHfoaZX",
        "colab": {
          "base_uri": "https://localhost:8080/"
        },
        "outputId": "56624a88-5870-4a07-f39f-a868a847610c"
      },
      "execution_count": null,
      "outputs": [
        {
          "output_type": "stream",
          "name": "stdout",
          "text": [
            "Saldo total Despesas Empenhadas em 2021: R$6844539243\n"
          ]
        }
      ]
    },
    {
      "cell_type": "markdown",
      "source": [
        "# Total Despesas Pagas"
      ],
      "metadata": {
        "id": "XjOo7-MRwXNl"
      }
    },
    {
      "cell_type": "code",
      "source": [
        "despesas_pagas = total.query(f\"tipo=='Despesas Pagas' and Conta=='09 - Previdência Social'\")\n",
        "despesas_pagas = despesas_pagas['Valor(R$)'].iloc[0]\n",
        "print(f'Saldo total Despesas Pagas em {ano}: R${despesas_pagas.split()[0]}')\n",
        "despesas_pagasprev = despesas_pagas.split()[0]"
      ],
      "metadata": {
        "id": "wjGXlPzyryeW",
        "colab": {
          "base_uri": "https://localhost:8080/"
        },
        "outputId": "c84413c7-1aa2-45ee-ace9-174871897df6"
      },
      "execution_count": null,
      "outputs": [
        {
          "output_type": "stream",
          "name": "stdout",
          "text": [
            "Saldo total Despesas Pagas em 2021: R$6843967074\n"
          ]
        }
      ]
    },
    {
      "cell_type": "markdown",
      "source": [
        "# Gráfico Despesas Pagas x Despesas Empenhadas"
      ],
      "metadata": {
        "id": "5gTFk6lK_Bfq"
      }
    },
    {
      "cell_type": "code",
      "source": [
        "# tratamento valor despesas pagas\n",
        "valor_pagas = despesas_pagas.split()[0].replace('.','')\n",
        "valor_pagas = valor_pagas.replace(',','.')\n",
        "\n",
        "if float(valor_pagas) % 1 != 0:\n",
        "  numero = int(valor_pagas[:valor_pagas.index('.')])\n",
        "  centavos = int(valor_pagas[valor_pagas.index('.') +1:])\n",
        "else:\n",
        "  numero = float(valor_pagas)\n",
        "  centavos = 0\n",
        "valor_pagas = numero + (centavos/100)\n",
        "\n",
        "# tratamento valor despesas empenhadas\n",
        "valor_empenhadas = despesas_empenhadas.split()[0].replace('.','')\n",
        "valor_empenhadas = valor_empenhadas.replace(',','.')\n",
        "print(valor_empenhadas)\n",
        "if float(valor_empenhadas) % 1 != 0:\n",
        "  numero = int(valor_empenhadas[:valor_empenhadas.index('.')])\n",
        "  centavos = int(valor_empenhadas[valor_empenhadas.index('.') +1:])\n",
        "else:\n",
        "  valor_pagas = int(valor_empenhadas)\n",
        "  centavos = 0\n",
        "valor_empenhadas = numero + (centavos/100)\n",
        "\n",
        "# pie plot\n",
        "import matplotlib.pyplot as plt\n",
        "valores = [valor_pagas, valor_empenhadas]\n",
        "plt.pie(valores, labels=['Despesas Empenhadas', 'Despesas Pagas'], autopct='%1.2f%%', colors=['red', 'gray'])\n",
        "plt.title(f'Distribuição despesas Assistência Social do {governo.upper()} no ano de {ano} (Previdência Social)')\n",
        "plt.show()"
      ],
      "metadata": {
        "id": "Jqlsxf_9_B52",
        "colab": {
          "base_uri": "https://localhost:8080/",
          "height": 446
        },
        "outputId": "21cba425-fb04-46b4-b0c8-fdad1b1426bf"
      },
      "execution_count": null,
      "outputs": [
        {
          "output_type": "stream",
          "name": "stdout",
          "text": [
            "6844539243\n"
          ]
        },
        {
          "output_type": "display_data",
          "data": {
            "text/plain": [
              "<Figure size 640x480 with 1 Axes>"
            ],
            "image/png": "[encoded data removed]"
          },
          "metadata": {}
        }
      ]
    },
    {
      "cell_type": "markdown",
      "source": [
        "---\n",
        "# **Saúde**\n",
        "---"
      ],
      "metadata": {
        "id": "AQZ1XdfuwbN5"
      }
    },
    {
      "cell_type": "markdown",
      "source": [
        "Total Despesas Empenhadas"
      ],
      "metadata": {
        "id": "5vsyALy5wanY"
      }
    },
    {
      "cell_type": "code",
      "source": [
        "despesas_empenhadas = total.query(f\"tipo=='Despesas Empenhadas' and Conta=='10 - Saúde'\")\n",
        "despesas_empenhadas = despesas_empenhadas['Valor(R$)'].iloc[0]\n",
        "print(f'Saldo total Despesas Empenhadas em {ano}: R${despesas_empenhadas.split()[0]}')\n",
        "despesas_empenhadassau = despesas_empenhadas.split()[0]"
      ],
      "metadata": {
        "id": "JdksKLxcwg1n",
        "colab": {
          "base_uri": "https://localhost:8080/"
        },
        "outputId": "3601b325-93a0-45da-8fa5-61397774cae7"
      },
      "execution_count": null,
      "outputs": [
        {
          "output_type": "stream",
          "name": "stdout",
          "text": [
            "Saldo total Despesas Empenhadas em 2021: R$7.492.995.052,93\n"
          ]
        }
      ]
    },
    {
      "cell_type": "code",
      "source": [
        "despesas_pagas = total.query(f\"tipo=='Despesas Pagas' and Conta=='10 - Saúde'\")\n",
        "despesas_pagas = despesas_pagas['Valor(R$)'].iloc[0]\n",
        "print(f'Saldo total Despesas Pagas em {ano}: R${despesas_pagas.split()[0]}')\n",
        "despesas_pagassau = despesas_pagas.split()[0]"
      ],
      "metadata": {
        "id": "Ag5gdwyOwk2q",
        "colab": {
          "base_uri": "https://localhost:8080/"
        },
        "outputId": "7264ba0d-f376-4bd5-f749-c341251a229b"
      },
      "execution_count": null,
      "outputs": [
        {
          "output_type": "stream",
          "name": "stdout",
          "text": [
            "Saldo total Despesas Pagas em 2021: R$7153522149\n"
          ]
        }
      ]
    },
    {
      "cell_type": "markdown",
      "source": [
        "# Gráfico Despesas Pagas x Despesas Empenhadas"
      ],
      "metadata": {
        "id": "aAOLymwX_i4m"
      }
    },
    {
      "cell_type": "code",
      "source": [
        "# tratamento valor despesas pagas\n",
        "valor_pagas = despesas_pagas.split()[0].replace('.','')\n",
        "valor_pagas = valor_pagas.replace(',','.')\n",
        "\n",
        "if float(valor_pagas) % 1 != 0:\n",
        "  numero = int(valor_pagas[:valor_pagas.index('.')])\n",
        "  centavos = int(valor_pagas[valor_pagas.index('.') +1:])\n",
        "else:\n",
        "  numero = float(valor_pagas)\n",
        "  centavos = 0\n",
        "valor_pagas = numero + (centavos/100)\n",
        "\n",
        "# tratamento valor despesas empenhadas\n",
        "valor_empenhadas = despesas_empenhadas.split()[0].replace('.','')\n",
        "valor_empenhadas = valor_empenhadas.replace(',','.')\n",
        "print(valor_empenhadas)\n",
        "if float(valor_empenhadas) % 1 != 0:\n",
        "  numero = int(valor_empenhadas[:valor_empenhadas.index('.')])\n",
        "  centavos = int(valor_empenhadas[valor_empenhadas.index('.') +1:])\n",
        "else:\n",
        "  valor_pagas = float(valor_empenhadas)\n",
        "  centavos = 0\n",
        "valor_empenhadas = numero + (centavos/100)\n",
        "\n",
        "# pie plot\n",
        "import matplotlib.pyplot as plt\n",
        "valores = [valor_pagas, valor_empenhadas]\n",
        "plt.pie(valores, labels=['Despesas Empenhadas', 'Despesas Pagas'], autopct='%1.2f%%', colors=['yellow', 'green'])\n",
        "plt.title(f'Distribuição despesas Assistência Social do {governo.upper()} no ano de {ano} (Saúde)')\n",
        "plt.show()"
      ],
      "metadata": {
        "id": "GhYwvW1kykbk",
        "colab": {
          "base_uri": "https://localhost:8080/",
          "height": 446
        },
        "outputId": "c6e68652-ac79-4964-a3bb-e64ca0f4072a"
      },
      "execution_count": null,
      "outputs": [
        {
          "output_type": "stream",
          "name": "stdout",
          "text": [
            "7492995052.93\n"
          ]
        },
        {
          "output_type": "display_data",
          "data": {
            "text/plain": [
              "<Figure size 640x480 with 1 Axes>"
            ],
            "image/png": "[encoded data removed]"
          },
          "metadata": {}
        }
      ]
    }
  ]
}